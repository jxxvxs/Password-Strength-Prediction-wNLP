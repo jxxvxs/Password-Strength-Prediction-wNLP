{
  "cells": [
    {
      "cell_type": "markdown",
      "source": [
        "## Main Import"
      ],
      "metadata": {
        "id": "lD-kaiov6mvt"
      }
    },
    {
      "cell_type": "code",
      "execution_count": 25,
      "metadata": {
        "id": "Okyb8zEAi6ba"
      },
      "outputs": [],
      "source": [
        "# import warnings\n",
        "# warnings.filterwarnings('ignore')\n",
        "\n",
        "\n",
        "import pandas as pd\n",
        "import numpy as np\n",
        "import seaborn as sns"
      ]
    },
    {
      "cell_type": "markdown",
      "metadata": {
        "id": "YpolUXxxi6bn"
      },
      "source": [
        "## Creating dataset var"
      ]
    },
    {
      "cell_type": "code",
      "execution_count": null,
      "metadata": {
        "id": "b4gwAWlFi6bw"
      },
      "outputs": [],
      "source": [
        "floc = 'datasets.csv'\n",
        "\n",
        "\n",
        "data=pd.read_csv(floc,error_bad_lines=False)\n",
        "data.head()"
      ]
    },
    {
      "cell_type": "markdown",
      "metadata": {
        "id": "GkRYsqZCi6b8"
      },
      "source": [
        "## Checking dataset values"
      ]
    },
    {
      "cell_type": "code",
      "execution_count": null,
      "metadata": {
        "id": "mO_GABY2i6b4"
      },
      "outputs": [],
      "source": [
        "data['strength'].unique()"
      ]
    },
    {
      "cell_type": "code",
      "execution_count": null,
      "metadata": {
        "id": "u1L8QDmGi6cC"
      },
      "outputs": [],
      "source": [
        "data[data['password'].isnull()]"
      ]
    },
    {
      "cell_type": "code",
      "execution_count": null,
      "metadata": {
        "id": "aeujzmoXi6cI"
      },
      "outputs": [],
      "source": [
        "data.isnull().sum()"
      ]
    },
    {
      "cell_type": "code",
      "execution_count": null,
      "metadata": {
        "id": "bM89AtCJi6b_"
      },
      "outputs": [],
      "source": [
        "data.isna().sum()"
      ]
    },
    {
      "cell_type": "code",
      "execution_count": 123,
      "metadata": {
        "id": "cD2uANnoi6cG"
      },
      "outputs": [],
      "source": [
        "data.dropna(inplace=True)"
      ]
    },
    {
      "cell_type": "code",
      "execution_count": null,
      "metadata": {
        "id": "ys5RRGtgi6cK"
      },
      "outputs": [],
      "source": [
        "sns.countplot(data['strength'])"
      ]
    },
    {
      "cell_type": "markdown",
      "source": [
        "## Creating array of the data"
      ],
      "metadata": {
        "id": "Rzr4QLim5ql5"
      }
    },
    {
      "cell_type": "code",
      "execution_count": null,
      "metadata": {
        "id": "t13rM_bYi6cM"
      },
      "outputs": [],
      "source": [
        "array_of_password = np.array(data)\n",
        "\n",
        "\n",
        "print(array_of_password)"
      ]
    },
    {
      "cell_type": "markdown",
      "metadata": {
        "id": "l_H3HMpQi6cR"
      },
      "source": [
        "## Randomizing array of the data"
      ]
    },
    {
      "cell_type": "code",
      "execution_count": 99,
      "metadata": {
        "id": "Ky_iniqLi6cS"
      },
      "outputs": [],
      "source": [
        "import random\n",
        "\n",
        "\n",
        "random.shuffle(array_of_password)"
      ]
    },
    {
      "cell_type": "code",
      "execution_count": 122,
      "metadata": {
        "id": "WTrxg4wfi6cT"
      },
      "outputs": [],
      "source": [
        "password_ = 0\n",
        "strength_ = 1\n",
        "\n",
        "\n",
        "x=[labels[password_] for labels in array_of_password]\n",
        "y=[labels[strength_] for labels in array_of_password]"
      ]
    },
    {
      "cell_type": "code",
      "execution_count": null,
      "metadata": {
        "id": "TNCzm_Ofi6cV"
      },
      "outputs": [],
      "source": [
        "x"
      ]
    },
    {
      "cell_type": "code",
      "execution_count": null,
      "metadata": {
        "id": "mAf1o2OAi6cX"
      },
      "outputs": [],
      "source": [
        "y"
      ]
    },
    {
      "cell_type": "markdown",
      "metadata": {
        "id": "KhPM6ID1i6cY"
      },
      "source": [
        "## Function to convert string to a list"
      ]
    },
    {
      "cell_type": "code",
      "execution_count": null,
      "metadata": {
        "id": "paoFhPVJi6ca"
      },
      "outputs": [],
      "source": [
        "def string_divide_fn(string):\n",
        "    list_ =[]\n",
        "    for char in string:\n",
        "        list_.append(char)\n",
        "    return list_\n",
        "\n",
        "\n",
        "string_divide_fn('Test_123(=*~/')"
      ]
    },
    {
      "cell_type": "markdown",
      "metadata": {
        "id": "48zvnsjOi6ci"
      },
      "source": [
        "## TF*IDF vectorizer to convert and applying it to data"
      ]
    },
    {
      "cell_type": "code",
      "execution_count": 86,
      "metadata": {
        "id": "KZA3swjFi6ch"
      },
      "outputs": [],
      "source": [
        "from sklearn.feature_extraction.text import TfidfVectorizer\n",
        "\n",
        "\n",
        "vectorizer=TfidfVectorizer(tokenizer=string_divide_fn)"
      ]
    },
    {
      "cell_type": "code",
      "execution_count": 87,
      "metadata": {
        "id": "PZG3ef9vi6cj"
      },
      "outputs": [],
      "source": [
        "X=vectorizer.fit_transform(x)"
      ]
    },
    {
      "cell_type": "code",
      "execution_count": null,
      "metadata": {
        "id": "g0UekN2Li6ck"
      },
      "outputs": [],
      "source": [
        "X.shape"
      ]
    },
    {
      "cell_type": "code",
      "execution_count": null,
      "metadata": {
        "id": "dp2sTTt1i6cn"
      },
      "outputs": [],
      "source": [
        "vectorizer.get_feature_names()"
      ]
    },
    {
      "cell_type": "code",
      "execution_count": null,
      "metadata": {
        "id": "g6gIbvcNi6co"
      },
      "outputs": [],
      "source": [
        "first_document_vector=X[0]\n",
        "\n",
        "\n",
        "first_document_vector"
      ]
    },
    {
      "cell_type": "code",
      "execution_count": null,
      "metadata": {
        "id": "JgeFOisbi6cp"
      },
      "outputs": [],
      "source": [
        "first_document_vector.T.todense()"
      ]
    },
    {
      "cell_type": "code",
      "execution_count": null,
      "metadata": {
        "id": "946NnLD0i6cr"
      },
      "outputs": [],
      "source": [
        "df=pd.DataFrame(first_document_vector.T.todense(),  index=vectorizer.get_feature_names(),  columns=['TF*IDF'])\n",
        "\n",
        "\n",
        "df.sort_values(by=['TF*IDF'],  ascending=False)"
      ]
    },
    {
      "cell_type": "markdown",
      "metadata": {
        "id": "vzAMkLE4i6ct"
      },
      "source": [
        "## Splitting with train_test_split"
      ]
    },
    {
      "cell_type": "code",
      "execution_count": 126,
      "metadata": {
        "id": "TcK77GR5i6cy"
      },
      "outputs": [],
      "source": [
        "from sklearn.model_selection import train_test_split\n",
        "\n",
        "\n",
        "X_train,  X_test,  Y_train,  Y_test    = train_test_split(X,y,test_size=0.2)\n",
        "\n",
        "\n",
        "X_train.shape"
      ]
    },
    {
      "cell_type": "markdown",
      "metadata": {
        "id": "j93AD-esi6dS"
      },
      "source": [
        "## Applying Logistic Regression on data"
      ]
    },
    {
      "cell_type": "code",
      "execution_count": null,
      "metadata": {
        "id": "WXoL_Rxri6dS"
      },
      "outputs": [],
      "source": [
        "from sklearn.linear_model import LogisticRegression\n",
        "\n",
        "\n",
        "clf   = LogisticRegression(random_state=0,  multi_class='multinomial')\n",
        "\n",
        "\n",
        "clf.fit(X_train,  Y_train)"
      ]
    },
    {
      "cell_type": "markdown",
      "metadata": {
        "id": "ezOJRhXoi6dd"
      },
      "source": [
        "## Checking prediction"
      ]
    },
    {
      "cell_type": "code",
      "execution_count": null,
      "metadata": {
        "id": "YfmyuQ8Ui6df"
      },
      "outputs": [],
      "source": [
        "temp_   = np.array( [   'i+Y*()VH12#L'   ] )\n",
        "\n",
        "\n",
        "_temp   = vectorizer.transform(temp_)\n",
        "clf.predict(_temp)"
      ]
    },
    {
      "cell_type": "markdown",
      "metadata": {
        "id": "8SoIsqlTi6dg"
      },
      "source": [
        "## Running prediction on X_test"
      ]
    },
    {
      "cell_type": "code",
      "execution_count": null,
      "metadata": {
        "id": "5419TH5Qi6dh"
      },
      "outputs": [],
      "source": [
        "Y_pred  = clf.predict(X_test)\n",
        "\n",
        "\n",
        "print(Y_pred)"
      ]
    },
    {
      "cell_type": "markdown",
      "metadata": {
        "id": "T1ZmzDASi6di"
      },
      "source": [
        "## Model Accuracy"
      ]
    },
    {
      "cell_type": "code",
      "execution_count": null,
      "metadata": {
        "id": "7QujrOsOi6dj"
      },
      "outputs": [],
      "source": [
        "from sklearn.metrics import confusion_matrix,accuracy_score\n",
        "\n",
        "\n",
        "conm  = confusion_matrix(Y_test,Y_pred)\n",
        "\n",
        "\n",
        "print(conm)"
      ]
    },
    {
      "cell_type": "code",
      "source": [
        "accuracy_score(Y_test,Y_pred)"
      ],
      "metadata": {
        "id": "XJSvy8jq9n4I"
      },
      "execution_count": null,
      "outputs": []
    },
    {
      "cell_type": "markdown",
      "metadata": {
        "id": "OYIA-x60i6dl"
      },
      "source": [
        "## Model Report"
      ]
    },
    {
      "cell_type": "code",
      "execution_count": null,
      "metadata": {
        "id": "NK-CIzLei6dm"
      },
      "outputs": [],
      "source": [
        "from sklearn.metrics import classification_report\n",
        "\n",
        "\n",
        "print(classification_report(Y_test,Y_pred))"
      ]
    }
  ],
  "metadata": {
    "kernelspec": {
      "display_name": "Python 3",
      "language": "python",
      "name": "python3"
    },
    "language_info": {
      "codemirror_mode": {
        "name": "ipython",
        "version": 3
      },
      "file_extension": ".py",
      "mimetype": "text/x-python",
      "name": "python",
      "nbconvert_exporter": "python",
      "pygments_lexer": "ipython3",
      "version": "3.7.4"
    },
    "colab": {
      "name": "classifying_pass_strength.ipynb",
      "provenance": [],
      "collapsed_sections": []
    }
  },
  "nbformat": 4,
  "nbformat_minor": 0
}